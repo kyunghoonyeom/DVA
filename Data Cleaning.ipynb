{
 "cells": [
  {
   "cell_type": "code",
   "execution_count": 4,
   "metadata": {},
   "outputs": [],
   "source": [
    "import pandas as pd\n",
    "import glob\n",
    "import os"
   ]
  },
  {
   "cell_type": "code",
   "execution_count": 61,
   "metadata": {},
   "outputs": [],
   "source": [
    "root_dir = os.getcwd()\n",
    "csv_files = glob.glob(os.path.join(root_dir, \"*.xlsx\"))\n",
    "\n",
    "big_df = pd.DataFrame()\n",
    "\n",
    "firstdf = pd.read_excel(csv_files[0], 0)\n",
    "\n",
    "for f in csv_files:\n",
    "    frame = pd.read_excel(f, 0)\n",
    "    employment_cols = frame.columns[frame.columns.str.contains(\"Employment\") & ~frame.columns.str.contains(\"Employment Location\")]\n",
    "    emp_in_frame = frame.columns.intersection(employment_cols)\n",
    "    employment_quarter_mean = frame.loc[:,emp_in_frame].mean(axis = 1, skipna=True)\n",
    "    frame['Mean Quarterly Employment'] = employment_quarter_mean\n",
    "    frame.drop(emp_in_frame, axis = 1, inplace=True)\n",
    "    big_df = pd.concat([big_df, frame], axis = 0)"
   ]
  },
  {
   "cell_type": "code",
   "execution_count": 62,
   "metadata": {},
   "outputs": [],
   "source": [
    "#Filtering for only County and Statistical Areas\n",
    "county_stats_area = big_df[(big_df['Area Type'] != \"Nation\") & (big_df[\"Area Type\"] != \"State\")]\n",
    "\n",
    "#Dropping Unknown or Undefined\n",
    "valid_records = county_stats_area[county_stats_area[\"Area\"].str.contains(\"Unknown Or Undefined\") == False]"
   ]
  },
  {
   "cell_type": "code",
   "execution_count": 78,
   "metadata": {},
   "outputs": [],
   "source": [
    "compression_opts = dict(method='zip',\n",
    "                        archive_name='out.csv')  \n",
    "valid_records.to_csv('out.zip', index=False,\n",
    "          compression=compression_opts)"
   ]
  }
 ],
 "metadata": {
  "kernelspec": {
   "display_name": "Python 3",
   "language": "python",
   "name": "python3"
  },
  "language_info": {
   "codemirror_mode": {
    "name": "ipython",
    "version": 3
   },
   "file_extension": ".py",
   "mimetype": "text/x-python",
   "name": "python",
   "nbconvert_exporter": "python",
   "pygments_lexer": "ipython3",
   "version": "3.7.6"
  }
 },
 "nbformat": 4,
 "nbformat_minor": 4
}
